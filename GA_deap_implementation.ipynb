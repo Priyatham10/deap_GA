{
 "cells": [
  {
   "cell_type": "code",
   "execution_count": 1,
   "metadata": {},
   "outputs": [
    {
     "data": {
      "text/plain": [
       "(100, 100)"
      ]
     },
     "execution_count": 1,
     "metadata": {},
     "output_type": "execute_result"
    }
   ],
   "source": [
    "list1 = [100, 0, 0, 0, 0]\n",
    "list2 = [20, 21, 19, 15, 25]\n",
    "(sum(list1), sum(list2))"
   ]
  },
  {
   "cell_type": "code",
   "execution_count": 2,
   "metadata": {},
   "outputs": [],
   "source": [
    "import random\n",
    "import numpy as np\n",
    "from deap import algorithms, base, creator, tools"
   ]
  },
  {
   "cell_type": "code",
   "execution_count": 3,
   "metadata": {},
   "outputs": [],
   "source": [
    "creator.create(\"FitnessMin\", base.Fitness, weights=(-1.0,)) # -1 -> minimum problem\n",
    "creator.create(\"Individual\", list, fitness=creator.FitnessMin)"
   ]
  },
  {
   "cell_type": "code",
   "execution_count": 4,
   "metadata": {},
   "outputs": [],
   "source": [
    "toolbox = base.Toolbox()"
   ]
  },
  {
   "cell_type": "code",
   "execution_count": 5,
   "metadata": {},
   "outputs": [
    {
     "data": {
      "text/plain": [
       "52"
      ]
     },
     "execution_count": 5,
     "metadata": {},
     "output_type": "execute_result"
    }
   ],
   "source": [
    "random.randint(0,100) # get random number between 0~100"
   ]
  },
  {
   "cell_type": "code",
   "execution_count": 12,
   "metadata": {},
   "outputs": [],
   "source": [
    "toolbox.register(\"attr_bool\", random.randint, 0, 100)"
   ]
  },
  {
   "cell_type": "code",
   "execution_count": 18,
   "metadata": {},
   "outputs": [
    {
     "data": {
      "text/plain": [
       "23"
      ]
     },
     "execution_count": 18,
     "metadata": {},
     "output_type": "execute_result"
    }
   ],
   "source": [
    "toolbox.attr_bool()"
   ]
  },
  {
   "cell_type": "code",
   "execution_count": 29,
   "metadata": {},
   "outputs": [],
   "source": [
    "toolbox.register(\"individual\", tools.initRepeat, creator.Individual, toolbox.attr_bool, 5)\n",
    "toolbox.register(\"population\", tools.initRepeat, list, toolbox.individual)"
   ]
  },
  {
   "cell_type": "code",
   "execution_count": 25,
   "metadata": {},
   "outputs": [
    {
     "data": {
      "text/plain": [
       "[43, 62, 74, 33, 54]"
      ]
     },
     "execution_count": 25,
     "metadata": {},
     "output_type": "execute_result"
    }
   ],
   "source": [
    "toolbox.individual()"
   ]
  },
  {
   "cell_type": "code",
   "execution_count": 54,
   "metadata": {},
   "outputs": [
    {
     "data": {
      "text/plain": [
       "[[71, 11, 89, 88, 70],\n",
       " [58, 94, 50, 14, 74],\n",
       " [74, 86, 96, 39, 84],\n",
       " [6, 92, 8, 22, 90],\n",
       " [71, 85, 58, 42, 100],\n",
       " [98, 6, 0, 38, 88],\n",
       " [50, 51, 61, 81, 63],\n",
       " [93, 67, 18, 94, 75],\n",
       " [28, 37, 38, 11, 78],\n",
       " [91, 36, 23, 34, 6]]"
      ]
     },
     "execution_count": 54,
     "metadata": {},
     "output_type": "execute_result"
    }
   ],
   "source": [
    "toolbox.population(n=10)"
   ]
  },
  {
   "cell_type": "code",
   "execution_count": 55,
   "metadata": {},
   "outputs": [],
   "source": [
    "def sum_error(individual):\n",
    "    return abs(100-sum(individual)),"
   ]
  },
  {
   "cell_type": "code",
   "execution_count": 56,
   "metadata": {},
   "outputs": [
    {
     "data": {
      "text/plain": [
       "[67, 2, 72, 38, 45]"
      ]
     },
     "execution_count": 56,
     "metadata": {},
     "output_type": "execute_result"
    }
   ],
   "source": [
    "ind = toolbox.individual()\n",
    "ind"
   ]
  },
  {
   "cell_type": "code",
   "execution_count": 57,
   "metadata": {},
   "outputs": [
    {
     "data": {
      "text/plain": [
       "(124,)"
      ]
     },
     "execution_count": 57,
     "metadata": {},
     "output_type": "execute_result"
    }
   ],
   "source": [
    "sum_error(ind)"
   ]
  },
  {
   "cell_type": "code",
   "execution_count": 58,
   "metadata": {},
   "outputs": [],
   "source": [
    "toolbox.register(\"evaluate\", sum_error)"
   ]
  },
  {
   "cell_type": "code",
   "execution_count": 59,
   "metadata": {},
   "outputs": [],
   "source": [
    "toolbox.register(\"mate\", tools.cxTwoPoint)\n",
    "toolbox.register(\"mutate\", tools.mutUniformInt, low=0, up=100, indpb=0.2) # Independent probability  : for each attribute to be mutated.# low~up rondom int\n",
    "toolbox.register(\"select\", tools.selTournament, tournsize=3)"
   ]
  },
  {
   "cell_type": "code",
   "execution_count": 64,
   "metadata": {},
   "outputs": [],
   "source": [
    "pop = toolbox.population(n=100)"
   ]
  },
  {
   "cell_type": "code",
   "execution_count": 137,
   "metadata": {},
   "outputs": [
    {
     "data": {
      "text/plain": [
       "<deap.tools.support.HallOfFame at 0x111768ac8>"
      ]
     },
     "execution_count": 137,
     "metadata": {},
     "output_type": "execute_result"
    }
   ],
   "source": [
    "hof = tools.HallOfFame(1)\n",
    "hof"
   ]
  },
  {
   "cell_type": "code",
   "execution_count": 62,
   "metadata": {},
   "outputs": [],
   "source": [
    "stats = tools.Statistics(lambda ind: ind.fitness.values)\n",
    "stats.register(\"avg\", np.mean)\n",
    "stats.register(\"std\", np.std)\n",
    "stats.register(\"min\", np.min)\n",
    "stats.register(\"max\", np.max)"
   ]
  },
  {
   "cell_type": "code",
   "execution_count": 67,
   "metadata": {},
   "outputs": [
    {
     "name": "stdout",
     "output_type": "stream",
     "text": [
      "gen\tnevals\n",
      "0  \t0     \n",
      "1  \t59    \n",
      "2  \t58    \n",
      "3  \t63    \n",
      "4  \t59    \n",
      "5  \t63    \n",
      "6  \t67    \n",
      "7  \t65    \n",
      "8  \t65    \n",
      "9  \t55    \n",
      "10 \t62    \n",
      "11 \t52    \n",
      "12 \t61    \n",
      "13 \t62    \n",
      "14 \t48    \n",
      "15 \t62    \n",
      "16 \t61    \n",
      "17 \t69    \n",
      "18 \t52    \n",
      "19 \t72    \n",
      "20 \t52    \n",
      "21 \t53    \n",
      "22 \t63    \n",
      "23 \t59    \n",
      "24 \t70    \n",
      "25 \t59    \n",
      "26 \t55    \n",
      "27 \t55    \n",
      "28 \t53    \n",
      "29 \t52    \n",
      "30 \t68    \n",
      "31 \t54    \n",
      "32 \t60    \n",
      "33 \t62    \n",
      "34 \t42    \n",
      "35 \t61    \n",
      "36 \t58    \n",
      "37 \t57    \n",
      "38 \t62    \n",
      "39 \t62    \n",
      "40 \t63    \n"
     ]
    }
   ],
   "source": [
    "pop, log = algorithms.eaSimple(pop, toolbox, cxpb=0.5, mutpb=0.2, ngen=40)"
   ]
  },
  {
   "cell_type": "code",
   "execution_count": 92,
   "metadata": {},
   "outputs": [],
   "source": [
    "x = [sum(ind) for ind in pop]"
   ]
  },
  {
   "cell_type": "code",
   "execution_count": 68,
   "metadata": {},
   "outputs": [
    {
     "data": {
      "text/plain": [
       "[[35, 9, 48, 0, 8],\n",
       " [35, 9, 48, 0, 8],\n",
       " [35, 9, 48, 0, 8],\n",
       " [35, 9, 48, 0, 8],\n",
       " [35, 9, 48, 0, 8]]"
      ]
     },
     "execution_count": 68,
     "metadata": {},
     "output_type": "execute_result"
    }
   ],
   "source": [
    "tools.selBest(pop, k=5)"
   ]
  },
  {
   "cell_type": "code",
   "execution_count": null,
   "metadata": {},
   "outputs": [],
   "source": []
  },
  {
   "cell_type": "code",
   "execution_count": null,
   "metadata": {},
   "outputs": [],
   "source": []
  },
  {
   "cell_type": "code",
   "execution_count": null,
   "metadata": {},
   "outputs": [],
   "source": []
  },
  {
   "cell_type": "code",
   "execution_count": 70,
   "metadata": {},
   "outputs": [],
   "source": [
    "import pandas as pd\n",
    "import numpy as np\n",
    "\n",
    "from math import radians, cos, sin, asin, sqrt \n",
    "\n",
    "# Geo data viz\n",
    "import folium"
   ]
  },
  {
   "cell_type": "code",
   "execution_count": 71,
   "metadata": {},
   "outputs": [],
   "source": [
    "df = pd.read_csv(\"seoul_street.csv\")"
   ]
  },
  {
   "cell_type": "code",
   "execution_count": 72,
   "metadata": {},
   "outputs": [
    {
     "data": {
      "text/html": [
       "<div>\n",
       "<style scoped>\n",
       "    .dataframe tbody tr th:only-of-type {\n",
       "        vertical-align: middle;\n",
       "    }\n",
       "\n",
       "    .dataframe tbody tr th {\n",
       "        vertical-align: top;\n",
       "    }\n",
       "\n",
       "    .dataframe thead th {\n",
       "        text-align: right;\n",
       "    }\n",
       "</style>\n",
       "<table border=\"1\" class=\"dataframe\">\n",
       "  <thead>\n",
       "    <tr style=\"text-align: right;\">\n",
       "      <th></th>\n",
       "      <th>street_ko</th>\n",
       "      <th>street_en</th>\n",
       "      <th>address</th>\n",
       "      <th>dong_ko</th>\n",
       "      <th>dong_en</th>\n",
       "      <th>lng</th>\n",
       "      <th>lat</th>\n",
       "      <th>score</th>\n",
       "    </tr>\n",
       "  </thead>\n",
       "  <tbody>\n",
       "    <tr>\n",
       "      <th>0</th>\n",
       "      <td>남대문거리</td>\n",
       "      <td>fishing-tackle street</td>\n",
       "      <td>서울시 중구 회현동 일대</td>\n",
       "      <td>회현동</td>\n",
       "      <td>Hoehyeon-dong</td>\n",
       "      <td>126.977432</td>\n",
       "      <td>37.558050</td>\n",
       "      <td>80</td>\n",
       "    </tr>\n",
       "    <tr>\n",
       "      <th>1</th>\n",
       "      <td>왕십리곱창골목</td>\n",
       "      <td>Wangsimni Gopchang Alley</td>\n",
       "      <td>서울시 중구 황학동 일대</td>\n",
       "      <td>황학동</td>\n",
       "      <td>Hwanghak-dong</td>\n",
       "      <td>127.020434</td>\n",
       "      <td>37.568610</td>\n",
       "      <td>68</td>\n",
       "    </tr>\n",
       "    <tr>\n",
       "      <th>2</th>\n",
       "      <td>남산공원북측순환도로</td>\n",
       "      <td>The north side of Ring-Road</td>\n",
       "      <td>서울시 중구 필동 일대</td>\n",
       "      <td>필동</td>\n",
       "      <td>Gwanghui-dong</td>\n",
       "      <td>126.995925</td>\n",
       "      <td>37.561350</td>\n",
       "      <td>55</td>\n",
       "    </tr>\n",
       "    <tr>\n",
       "      <th>3</th>\n",
       "      <td>장충단길</td>\n",
       "      <td>Jangchungdan-gil</td>\n",
       "      <td>서울시 중구 장충동 일대</td>\n",
       "      <td>장충동</td>\n",
       "      <td>Pil-dong</td>\n",
       "      <td>127.000575</td>\n",
       "      <td>37.561386</td>\n",
       "      <td>87</td>\n",
       "    </tr>\n",
       "    <tr>\n",
       "      <th>4</th>\n",
       "      <td>초동길</td>\n",
       "      <td>Chodong-gil</td>\n",
       "      <td>서울시 중구 을지로동 일대</td>\n",
       "      <td>을지로동</td>\n",
       "      <td>Euljiro-dong</td>\n",
       "      <td>126.997646</td>\n",
       "      <td>37.566410</td>\n",
       "      <td>4</td>\n",
       "    </tr>\n",
       "  </tbody>\n",
       "</table>\n",
       "</div>"
      ],
      "text/plain": [
       "    street_ko                    street_en         address dong_ko  \\\n",
       "0       남대문거리        fishing-tackle street   서울시 중구 회현동 일대     회현동   \n",
       "1     왕십리곱창골목     Wangsimni Gopchang Alley   서울시 중구 황학동 일대     황학동   \n",
       "2  남산공원북측순환도로  The north side of Ring-Road    서울시 중구 필동 일대      필동   \n",
       "3        장충단길             Jangchungdan-gil   서울시 중구 장충동 일대     장충동   \n",
       "4         초동길                  Chodong-gil  서울시 중구 을지로동 일대    을지로동   \n",
       "\n",
       "         dong_en         lng        lat  score  \n",
       "0  Hoehyeon-dong  126.977432  37.558050     80  \n",
       "1  Hwanghak-dong  127.020434  37.568610     68  \n",
       "2  Gwanghui-dong  126.995925  37.561350     55  \n",
       "3       Pil-dong  127.000575  37.561386     87  \n",
       "4   Euljiro-dong  126.997646  37.566410      4  "
      ]
     },
     "execution_count": 72,
     "metadata": {},
     "output_type": "execute_result"
    }
   ],
   "source": [
    "df.head()"
   ]
  },
  {
   "cell_type": "code",
   "execution_count": 75,
   "metadata": {},
   "outputs": [
    {
     "data": {
      "text/html": [
       "<div style=\"width:100%;\"><div style=\"position:relative;width:100%;height:0;padding-bottom:60%;\"><iframe src=\"data:text/html;charset=utf-8;base64,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\" style=\"position:absolute;width:100%;height:100%;left:0;top:0;border:none !important;\" allowfullscreen webkitallowfullscreen mozallowfullscreen></iframe></div></div>"
      ],
      "text/plain": [
       "<folium.folium.Map at 0x110cdb3c8>"
      ]
     },
     "execution_count": 75,
     "metadata": {},
     "output_type": "execute_result"
    }
   ],
   "source": [
    "m = folium.Map(location=[np.mean(df.lat), np.mean(df.lng)], zoom_start=11, tiles='Stamen Toner')\n",
    "for index, row in df.iterrows():\n",
    "    popup_txt = \"%s // Score : %s \" % (row.street_en, row.score)\n",
    "    folium.Marker([row.lat, row.lng], popup=popup_txt).add_to(m)\n",
    "m"
   ]
  },
  {
   "cell_type": "code",
   "execution_count": 77,
   "metadata": {},
   "outputs": [
    {
     "name": "stderr",
     "output_type": "stream",
     "text": [
      "/Library/Frameworks/Python.framework/Versions/3.6/lib/python3.6/site-packages/deap/creator.py:141: RuntimeWarning: A class named 'FitnessMulti' has already been created and it will be overwritten. Consider deleting previous creation of that class or rename it.\n",
      "  RuntimeWarning)\n"
     ]
    }
   ],
   "source": [
    "creator.create(\"FitnessMulti\", base.Fitness, weights=(-1.0,1.0))\n",
    "creator.create(\"Individual\", list, fitness=creator.FitnessMulti)"
   ]
  },
  {
   "cell_type": "code",
   "execution_count": 78,
   "metadata": {},
   "outputs": [],
   "source": [
    "toolbox = base.Toolbox()"
   ]
  },
  {
   "cell_type": "code",
   "execution_count": 80,
   "metadata": {},
   "outputs": [],
   "source": [
    "# Attribute generator \n",
    "toolbox.register(\"index\", np.random.choice, len(df), 5, replace=False) # choose 5 spots"
   ]
  },
  {
   "cell_type": "code",
   "execution_count": 83,
   "metadata": {},
   "outputs": [
    {
     "data": {
      "text/plain": [
       "array([46, 27, 51, 59, 12])"
      ]
     },
     "execution_count": 83,
     "metadata": {},
     "output_type": "execute_result"
    }
   ],
   "source": [
    "toolbox.index()"
   ]
  },
  {
   "cell_type": "code",
   "execution_count": 100,
   "metadata": {},
   "outputs": [],
   "source": [
    "toolbox.register(\"individual\", tools.initIterate, creator.Individual, toolbox.index)\n",
    "toolbox.register(\"population\", tools.initRepeat, list, toolbox.individual)"
   ]
  },
  {
   "cell_type": "code",
   "execution_count": 104,
   "metadata": {},
   "outputs": [],
   "source": [
    "ind = toolbox.individual()"
   ]
  },
  {
   "cell_type": "code",
   "execution_count": 105,
   "metadata": {},
   "outputs": [
    {
     "data": {
      "text/html": [
       "<div>\n",
       "<style scoped>\n",
       "    .dataframe tbody tr th:only-of-type {\n",
       "        vertical-align: middle;\n",
       "    }\n",
       "\n",
       "    .dataframe tbody tr th {\n",
       "        vertical-align: top;\n",
       "    }\n",
       "\n",
       "    .dataframe thead th {\n",
       "        text-align: right;\n",
       "    }\n",
       "</style>\n",
       "<table border=\"1\" class=\"dataframe\">\n",
       "  <thead>\n",
       "    <tr style=\"text-align: right;\">\n",
       "      <th></th>\n",
       "      <th>street_ko</th>\n",
       "      <th>street_en</th>\n",
       "      <th>address</th>\n",
       "      <th>dong_ko</th>\n",
       "      <th>dong_en</th>\n",
       "      <th>lng</th>\n",
       "      <th>lat</th>\n",
       "      <th>score</th>\n",
       "    </tr>\n",
       "  </thead>\n",
       "  <tbody>\n",
       "    <tr>\n",
       "      <th>52</th>\n",
       "      <td>현충로</td>\n",
       "      <td>Hyeonchungno</td>\n",
       "      <td>서울시 동작구 사당2동 일대</td>\n",
       "      <td>사당2동</td>\n",
       "      <td>Sadang2-dong</td>\n",
       "      <td>126.973605</td>\n",
       "      <td>37.500688</td>\n",
       "      <td>26</td>\n",
       "    </tr>\n",
       "    <tr>\n",
       "      <th>59</th>\n",
       "      <td>건대로데오거리</td>\n",
       "      <td>Rodeo Street</td>\n",
       "      <td>서울시 광진구 자양4동 일대</td>\n",
       "      <td>자양4동</td>\n",
       "      <td>Jayang1-dong</td>\n",
       "      <td>127.080215</td>\n",
       "      <td>37.531921</td>\n",
       "      <td>65</td>\n",
       "    </tr>\n",
       "    <tr>\n",
       "      <th>7</th>\n",
       "      <td>명동거리</td>\n",
       "      <td>Myeong-dong street</td>\n",
       "      <td>서울시 중구 명동 일대</td>\n",
       "      <td>명동</td>\n",
       "      <td>Myeong-dong</td>\n",
       "      <td>126.978819</td>\n",
       "      <td>37.568059</td>\n",
       "      <td>97</td>\n",
       "    </tr>\n",
       "    <tr>\n",
       "      <th>33</th>\n",
       "      <td>청소년문화거리</td>\n",
       "      <td>Teenager Culture Street</td>\n",
       "      <td>서울시 양천구 목5동 일대</td>\n",
       "      <td>목5동</td>\n",
       "      <td>Mok5-dong</td>\n",
       "      <td>126.875894</td>\n",
       "      <td>37.536597</td>\n",
       "      <td>7</td>\n",
       "    </tr>\n",
       "    <tr>\n",
       "      <th>24</th>\n",
       "      <td>용산감자탕거리</td>\n",
       "      <td>Yongsan Pork Back-bone Stew Road</td>\n",
       "      <td>서울시 용산구 한강로동 일대</td>\n",
       "      <td>한강로동</td>\n",
       "      <td>Hangangno-dong</td>\n",
       "      <td>126.973064</td>\n",
       "      <td>37.531945</td>\n",
       "      <td>5</td>\n",
       "    </tr>\n",
       "  </tbody>\n",
       "</table>\n",
       "</div>"
      ],
      "text/plain": [
       "   street_ko                         street_en          address dong_ko  \\\n",
       "52       현충로                      Hyeonchungno  서울시 동작구 사당2동 일대    사당2동   \n",
       "59   건대로데오거리                      Rodeo Street  서울시 광진구 자양4동 일대    자양4동   \n",
       "7       명동거리                Myeong-dong street     서울시 중구 명동 일대      명동   \n",
       "33   청소년문화거리           Teenager Culture Street   서울시 양천구 목5동 일대     목5동   \n",
       "24   용산감자탕거리  Yongsan Pork Back-bone Stew Road  서울시 용산구 한강로동 일대    한강로동   \n",
       "\n",
       "           dong_en         lng        lat  score  \n",
       "52    Sadang2-dong  126.973605  37.500688     26  \n",
       "59    Jayang1-dong  127.080215  37.531921     65  \n",
       "7      Myeong-dong  126.978819  37.568059     97  \n",
       "33       Mok5-dong  126.875894  37.536597      7  \n",
       "24  Hangangno-dong  126.973064  37.531945      5  "
      ]
     },
     "execution_count": 105,
     "metadata": {},
     "output_type": "execute_result"
    }
   ],
   "source": [
    "df.iloc[ind]"
   ]
  },
  {
   "cell_type": "code",
   "execution_count": 107,
   "metadata": {},
   "outputs": [],
   "source": [
    "def create_tour(individual):\n",
    "    return [(df.iloc[i].lat, df.iloc[i].lng) for i in individual]"
   ]
  },
  {
   "cell_type": "code",
   "execution_count": 108,
   "metadata": {},
   "outputs": [
    {
     "data": {
      "text/plain": [
       "[(37.5006879112, 126.97360464049999),\n",
       " (37.5319212362, 127.0802146943),\n",
       " (37.568058597, 126.9788194313),\n",
       " (37.5365973016, 126.87589368530001),\n",
       " (37.5319454062, 126.97306414379999)]"
      ]
     },
     "execution_count": 108,
     "metadata": {},
     "output_type": "execute_result"
    }
   ],
   "source": [
    "tour = create_tour(ind)\n",
    "tour"
   ]
  },
  {
   "cell_type": "code",
   "execution_count": 109,
   "metadata": {},
   "outputs": [],
   "source": [
    "def total_distance(tour):\n",
    "    tour_sum = sum(distance(tour[i], tour[i+1]) for i in range(len(tour)-1))\n",
    "    return tour_sum\n",
    "\n",
    "def distance(spot1, spot2):\n",
    "    # convert decimal degrees to radians \n",
    "    lng1, lat1, lng2, lat2 = map(radians, [spot1[0], spot1[1], spot2[0], spot2[1]])\n",
    "    \n",
    "    RADIUS = 6371 # FAA approved globe radius in km\n",
    "    \n",
    "    dlng = lng2-lng1\n",
    "    dlat = lat2-lat1\n",
    "    a = sin(dlat/2)**2 + cos(lat1) * cos(lat2) * sin(dlng/2)**2\n",
    "    c = 2 * asin(sqrt(a)) \n",
    "    dist = RADIUS * c\n",
    "    return dist"
   ]
  },
  {
   "cell_type": "code",
   "execution_count": 110,
   "metadata": {},
   "outputs": [
    {
     "data": {
      "text/plain": [
       "46.01452626116232"
      ]
     },
     "execution_count": 110,
     "metadata": {},
     "output_type": "execute_result"
    }
   ],
   "source": [
    "total_distance(tour)"
   ]
  },
  {
   "cell_type": "code",
   "execution_count": 113,
   "metadata": {},
   "outputs": [],
   "source": [
    "def plot_tour(ind):\n",
    "    tour = create_tour(ind)\n",
    "    m = folium.Map(location=[np.mean(df.lat), np.mean(df.lng)], zoom_start=13)\n",
    "    path=folium.PolyLine(locations=tour,weight=5)\n",
    "    m.add_children(path)\n",
    "    for i,loc in enumerate(ind):\n",
    "        popup_txt = \"%s // Score : %s \" % (df.iloc[loc].street_en, df.iloc[loc].score)\n",
    "        folium.Marker(tour[i], popup=popup_txt).add_to(m)\n",
    "    return m"
   ]
  },
  {
   "cell_type": "code",
   "execution_count": 114,
   "metadata": {},
   "outputs": [
    {
     "name": "stderr",
     "output_type": "stream",
     "text": [
      "/Library/Frameworks/Python.framework/Versions/3.6/lib/python3.6/site-packages/ipykernel_launcher.py:5: FutureWarning: Method `add_children` is deprecated. Please use `add_child` instead.\n",
      "  \"\"\"\n"
     ]
    },
    {
     "data": {
      "text/html": [
       "<div style=\"width:100%;\"><div style=\"position:relative;width:100%;height:0;padding-bottom:60%;\"><iframe src=\"data:text/html;charset=utf-8;base64,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\" style=\"position:absolute;width:100%;height:100%;left:0;top:0;border:none !important;\" allowfullscreen webkitallowfullscreen mozallowfullscreen></iframe></div></div>"
      ],
      "text/plain": [
       "<folium.folium.Map at 0x110eadc88>"
      ]
     },
     "execution_count": 114,
     "metadata": {},
     "output_type": "execute_result"
    }
   ],
   "source": [
    "plot_tour(ind)"
   ]
  },
  {
   "cell_type": "code",
   "execution_count": 116,
   "metadata": {},
   "outputs": [],
   "source": [
    "def total_score(individual):\n",
    "    return sum([df.iloc[i]['score'] for i in individual])"
   ]
  },
  {
   "cell_type": "code",
   "execution_count": 117,
   "metadata": {},
   "outputs": [
    {
     "data": {
      "text/plain": [
       "200"
      ]
     },
     "execution_count": 117,
     "metadata": {},
     "output_type": "execute_result"
    }
   ],
   "source": [
    "total_score(ind)"
   ]
  },
  {
   "cell_type": "code",
   "execution_count": 118,
   "metadata": {},
   "outputs": [],
   "source": [
    "def eval_func(individual):\n",
    "    \n",
    "    # 1 total distance -> minimun\n",
    "    t_dist = total_distance(create_tour(individual))\n",
    "    \n",
    "    # 2 total score -> maximum\n",
    "    t_score = total_score(individual)\n",
    "    \n",
    "    # 3 penalty\n",
    "    penalty = len(individual) - len(set(individual))\n",
    "    t_dist += penalty*1000000\n",
    "    t_score -= penalty*1000000\n",
    "    \n",
    "    return t_dist, t_score"
   ]
  },
  {
   "cell_type": "code",
   "execution_count": 119,
   "metadata": {},
   "outputs": [
    {
     "data": {
      "text/plain": [
       "(46.01452626116232, 200)"
      ]
     },
     "execution_count": 119,
     "metadata": {},
     "output_type": "execute_result"
    }
   ],
   "source": [
    "eval_func(ind)"
   ]
  },
  {
   "cell_type": "code",
   "execution_count": 120,
   "metadata": {},
   "outputs": [],
   "source": [
    "toolbox.register(\"evaluate\", eval_func)"
   ]
  },
  {
   "cell_type": "code",
   "execution_count": 121,
   "metadata": {},
   "outputs": [],
   "source": [
    "toolbox.register(\"select\", tools.selNSGA2)\n",
    "toolbox.register(\"mate\", tools.cxTwoPoint)\n",
    "# tools.mutShuffleIndexes : Shuffle the attributes of the input individual and return the mutant.\n",
    "toolbox.register(\"mutate\", tools.mutShuffleIndexes, indpb=0.8)"
   ]
  },
  {
   "cell_type": "code",
   "execution_count": 122,
   "metadata": {},
   "outputs": [],
   "source": [
    "POP_SIZE = 100\n",
    "MAX_GEN = 100\n",
    "MUT_PROB = 0.2\n",
    "CX_PROB = 0.8"
   ]
  },
  {
   "cell_type": "code",
   "execution_count": 123,
   "metadata": {},
   "outputs": [],
   "source": [
    "pop = toolbox.population(n=POP_SIZE)"
   ]
  },
  {
   "cell_type": "code",
   "execution_count": 124,
   "metadata": {},
   "outputs": [],
   "source": [
    "stats = tools.Statistics(lambda ind: ind.fitness.values)\n",
    "stats.register(\"avg\", np.mean, axis=0) \n",
    "stats.register(\"min\", np.min, axis=0)\n",
    "stats.register(\"max\", np.max, axis=0)"
   ]
  },
  {
   "cell_type": "code",
   "execution_count": 125,
   "metadata": {},
   "outputs": [
    {
     "name": "stdout",
     "output_type": "stream",
     "text": [
      "gen\tnevals\tavg                        \tmin                      \tmax                        \n",
      "0  \t100   \t[ 42.70496666 224.21      ]\t[14.14319045 92.        ]\t[ 79.70144418 359.        ]\n",
      "1  \t100   \t[ 32.78084489 248.61      ]\t[13.21312383 93.        ]\t[ 75.43573518 359.        ]\n",
      "2  \t100   \t[ 26.61882002 251.47      ]\t[10.14656649 93.        ]\t[ 73.09244758 363.        ]\n",
      "3  \t100   \t[ 24.29087672 277.54      ]\t[  9.83239926 118.        ]\t[ 73.09244758 409.        ]\n",
      "4  \t100   \t[ 21.46693735 301.48      ]\t[  9.83239926 118.        ]\t[ 40.0336836 415.       ]  \n",
      "5  \t100   \t[ 19.48390502 312.03      ]\t[  7.68962282 118.        ]\t[ 40.63292362 468.        ]\n",
      "6  \t100   \t[ 18.60417213 331.96      ]\t[  7.68962282 118.        ]\t[ 54.90507224 468.        ]\n",
      "7  \t100   \t[ 18.07354821 349.34      ]\t[  7.68962282 118.        ]\t[ 54.90507224 468.        ]\n",
      "8  \t100   \t[ 16.02894361 349.81      ]\t[  7.68962282 118.        ]\t[ 31.11753241 476.        ]\n",
      "9  \t100   \t[ 14.59654512 358.44      ]\t[  6.74404491 125.        ]\t[ 30.42966013 479.        ]\n",
      "10 \t100   \t[ 12.57242615 369.14      ]\t[  6.74404491 184.        ]\t[ 26.29873497 479.        ]\n",
      "11 \t100   \t[ 11.37976531 372.15      ]\t[  6.20333656 184.        ]\t[ 21.77873535 479.        ]\n",
      "12 \t100   \t[ 11.34158958 394.35      ]\t[  5.41409732 184.        ]\t[ 21.77873535 481.        ]\n",
      "13 \t100   \t[ 10.61453077 407.92      ]\t[  4.13373278 184.        ]\t[ 21.77873535 491.        ]\n",
      "14 \t100   \t[  9.98810804 408.91      ]\t[  4.13373278 184.        ]\t[ 21.77873535 491.        ]\n",
      "15 \t100   \t[  8.84386787 416.29      ]\t[  4.13373278 184.        ]\t[ 17.38926803 491.        ]\n",
      "16 \t100   \t[  8.52660271 427.32      ]\t[  4.13373278 184.        ]\t[ 16.28057776 491.        ]\n",
      "17 \t100   \t[  7.92438121 426.1       ]\t[  4.13373278 184.        ]\t[ 17.12788511 491.        ]\n",
      "18 \t100   \t[  7.63876373 435.79      ]\t[  4.09295445 202.        ]\t[ 17.12788511 493.        ]\n",
      "19 \t100   \t[  7.03455704 436.1       ]\t[  4.09295445 202.        ]\t[ 15.78596007 493.        ]\n",
      "20 \t100   \t[  6.71964477 442.79      ]\t[  3.75028167 202.        ]\t[ 15.78596007 493.        ]\n",
      "21 \t100   \t[  6.42631853 438.64      ]\t[  3.75028167 202.        ]\t[ 18.51044088 493.        ]\n",
      "22 \t100   \t[  6.42633318 441.97      ]\t[  3.75028167 202.        ]\t[ 18.6615166 493.       ]  \n",
      "23 \t100   \t[  6.2297096 437.81     ]  \t[  3.75028167 350.        ]\t[ 19.10177279 493.        ]\n",
      "24 \t100   \t[  5.94966244 437.28      ]\t[  3.75028167 350.        ]\t[ 18.51044088 493.        ]\n",
      "25 \t100   \t[  5.44169088 433.27      ]\t[  3.75028167 365.        ]\t[ 13.81227719 493.        ]\n",
      "26 \t100   \t[  5.15193372 434.56      ]\t[  3.75028167 375.        ]\t[ 13.77720383 493.        ]\n",
      "27 \t100   \t[  5.25314845 444.69      ]\t[  3.64995263 375.        ]\t[ 13.77720383 493.        ]\n",
      "28 \t100   \t[  5.23115146 446.47      ]\t[  3.31836692 375.        ]\t[ 13.77720383 493.        ]\n",
      "29 \t100   \t[  5.16308139 448.38      ]\t[  3.31836692 375.        ]\t[ 13.77720383 493.        ]\n",
      "30 \t100   \t[  5.0015122 445.58     ]  \t[  3.31836692 375.        ]\t[ 12.13751632 493.        ]\n",
      "31 \t100   \t[  4.84872661 444.51      ]\t[  3.31836692 384.        ]\t[ 11.06118847 493.        ]\n",
      "32 \t100   \t[  4.76421335 444.41      ]\t[  3.31836692 384.        ]\t[ 11.06093609 493.        ]\n",
      "33 \t100   \t[  4.50002896 441.16      ]\t[  3.31836692 384.        ]\t[ 11.06093609 493.        ]\n",
      "34 \t100   \t[  4.36584005 441.98      ]\t[  3.31836692 384.        ]\t[ 10.69613807 493.        ]\n",
      "35 \t100   \t[  4.40095254 442.98      ]\t[  3.31836692 384.        ]\t[ 10.69613807 493.        ]\n",
      "36 \t100   \t[  4.57243787 447.61      ]\t[  3.31836692 384.        ]\t[ 10.69613807 493.        ]\n",
      "37 \t100   \t[  4.90070645 456.97      ]\t[  3.31642881 384.        ]\t[ 10.69613807 493.        ]\n",
      "38 \t100   \t[  5.15780976 464.39      ]\t[  3.31642881 392.        ]\t[ 13.7854169 493.       ]  \n",
      "39 \t100   \t[  5.2530212 468.74     ]  \t[  3.06162588 392.        ]\t[ 10.69613807 493.        ]\n",
      "40 \t100   \t[  5.32112438 471.17      ]\t[  3.06162588 392.        ]\t[ 10.69613807 493.        ]\n",
      "41 \t100   \t[  5.65485877 479.41      ]\t[  3.06162588 409.        ]\t[ 10.6569558 493.       ]  \n",
      "42 \t100   \t[  5.42870206 480.61      ]\t[  3.06162588 409.        ]\t[ 10.49671684 493.        ]\n",
      "43 \t100   \t[  5.37806498 480.59      ]\t[  3.06162588 409.        ]\t[ 10.03468754 493.        ]\n",
      "44 \t100   \t[  5.32043027 479.53      ]\t[  3.06162588 409.        ]\t[ 10.03468754 493.        ]\n",
      "45 \t100   \t[  5.27916061 478.88      ]\t[  3.06162588 409.        ]\t[ 10.03468754 493.        ]\n",
      "46 \t100   \t[  5.16072282 475.73      ]\t[  3.06162588 409.        ]\t[ 10.03468754 493.        ]\n",
      "47 \t100   \t[  5.01485086 471.08      ]\t[  3.06162588 409.        ]\t[ 15.31941424 493.        ]\n",
      "48 \t100   \t[  4.75769279 467.82      ]\t[  3.06162588 409.        ]\t[ 15.31941424 493.        ]\n",
      "49 \t100   \t[  5.22365168 481.93      ]\t[  3.06162588 409.        ]\t[ 10.03468754 493.        ]\n",
      "50 \t100   \t[  5.51044934 488.69      ]\t[  3.06162588 409.        ]\t[ 10.03468754 493.        ]\n",
      "51 \t100   \t[  5.51044934 488.69      ]\t[  3.06162588 409.        ]\t[ 10.03468754 493.        ]\n",
      "52 \t100   \t[  5.49347007 488.5       ]\t[  3.06162588 409.        ]\t[ 10.03468754 493.        ]\n",
      "53 \t100   \t[  5.49347007 488.5       ]\t[  3.06162588 409.        ]\t[ 10.03468754 493.        ]\n",
      "54 \t100   \t[  5.49347007 488.5       ]\t[  3.06162588 409.        ]\t[ 10.03468754 493.        ]\n",
      "55 \t100   \t[  5.49347007 488.5       ]\t[  3.06162588 409.        ]\t[ 10.03468754 493.        ]\n",
      "56 \t100   \t[  5.49347007 488.5       ]\t[  3.06162588 409.        ]\t[ 10.03468754 493.        ]\n",
      "57 \t100   \t[  5.53903908 488.52      ]\t[  3.06162588 409.        ]\t[ 10.03468754 493.        ]\n",
      "58 \t100   \t[  5.53903908 488.52      ]\t[  3.06162588 409.        ]\t[ 10.03468754 493.        ]\n",
      "59 \t100   \t[  5.53903908 488.52      ]\t[  3.06162588 409.        ]\t[ 10.03468754 493.        ]\n",
      "60 \t100   \t[  5.53903908 488.52      ]\t[  3.06162588 409.        ]\t[ 10.03468754 493.        ]\n",
      "61 \t100   \t[  5.58460809 488.54      ]\t[  3.06162588 409.        ]\t[ 10.03468754 493.        ]\n",
      "62 \t100   \t[  5.58460809 488.54      ]\t[  3.06162588 409.        ]\t[ 10.03468754 493.        ]\n",
      "63 \t100   \t[  5.58460809 488.54      ]\t[  3.06162588 409.        ]\t[ 10.03468754 493.        ]\n",
      "64 \t100   \t[  5.58460809 488.54      ]\t[  3.06162588 409.        ]\t[ 10.03468754 493.        ]\n",
      "65 \t100   \t[  5.63017709 488.56      ]\t[  3.06162588 409.        ]\t[ 10.03468754 493.        ]\n",
      "66 \t100   \t[  5.6757461 488.58     ]  \t[  3.06162588 409.        ]\t[ 10.03468754 493.        ]\n",
      "67 \t100   \t[  5.6757461 488.58     ]  \t[  3.06162588 409.        ]\t[ 10.03468754 493.        ]\n",
      "68 \t100   \t[  5.6757461 488.58     ]  \t[  3.06162588 409.        ]\t[ 10.03468754 493.        ]\n",
      "69 \t100   \t[  5.6757461 488.58     ]  \t[  3.06162588 409.        ]\t[ 10.03468754 493.        ]\n",
      "70 \t100   \t[  5.6757461 488.58     ]  \t[  3.06162588 409.        ]\t[ 10.03468754 493.        ]\n",
      "71 \t100   \t[  5.6757461 488.58     ]  \t[  3.06162588 409.        ]\t[ 10.03468754 493.        ]\n",
      "72 \t100   \t[  5.6757461 488.58     ]  \t[  3.06162588 409.        ]\t[ 10.03468754 493.        ]\n",
      "73 \t100   \t[  5.6757461 488.58     ]  \t[  3.06162588 409.        ]\t[ 10.03468754 493.        ]\n",
      "74 \t100   \t[  5.76688411 488.62      ]\t[  3.06162588 409.        ]\t[ 10.03468754 493.        ]\n",
      "75 \t100   \t[  5.76688411 488.62      ]\t[  3.06162588 409.        ]\t[ 10.03468754 493.        ]\n",
      "76 \t100   \t[  5.76688411 488.62      ]\t[  3.06162588 409.        ]\t[ 10.03468754 493.        ]\n",
      "77 \t100   \t[  5.85802212 488.66      ]\t[  3.06162588 409.        ]\t[ 10.03468754 493.        ]\n",
      "78 \t100   \t[  5.90359113 488.68      ]\t[  3.06162588 409.        ]\t[ 10.03468754 493.        ]\n",
      "79 \t100   \t[  5.90359113 488.68      ]\t[  3.06162588 409.        ]\t[ 10.03468754 493.        ]\n",
      "80 \t100   \t[  5.90359113 488.68      ]\t[  3.06162588 409.        ]\t[ 10.03468754 493.        ]\n",
      "81 \t100   \t[  5.94916013 488.7       ]\t[  3.06162588 409.        ]\t[ 10.03468754 493.        ]\n",
      "82 \t100   \t[  5.99472914 488.72      ]\t[  3.06162588 409.        ]\t[ 10.03468754 493.        ]\n",
      "83 \t100   \t[  6.13143616 488.78      ]\t[  3.06162588 409.        ]\t[ 10.03468754 493.        ]\n",
      "84 \t100   \t[  6.31371218 488.86      ]\t[  3.06162588 409.        ]\t[ 10.03468754 493.        ]\n",
      "85 \t100   \t[  6.4504192 488.92     ]  \t[  3.06162588 409.        ]\t[ 10.03468754 493.        ]\n"
     ]
    },
    {
     "name": "stdout",
     "output_type": "stream",
     "text": [
      "86 \t100   \t[  6.72383324 489.04      ]\t[  3.06162588 409.        ]\t[ 10.03468754 493.        ]\n",
      "87 \t100   \t[  5.40233206 488.46      ]\t[  3.06162588 409.        ]\t[ 10.03468754 493.        ]\n",
      "88 \t100   \t[  5.40233206 488.46      ]\t[  3.06162588 409.        ]\t[ 10.03468754 493.        ]\n",
      "89 \t100   \t[  5.40233206 488.46      ]\t[  3.06162588 409.        ]\t[ 10.03468754 493.        ]\n",
      "90 \t100   \t[  5.40233206 488.46      ]\t[  3.06162588 409.        ]\t[ 10.03468754 493.        ]\n",
      "91 \t100   \t[  5.40233206 488.46      ]\t[  3.06162588 409.        ]\t[ 10.03468754 493.        ]\n",
      "92 \t100   \t[  5.40233206 488.46      ]\t[  3.06162588 409.        ]\t[ 10.03468754 493.        ]\n",
      "93 \t100   \t[  5.40233206 488.46      ]\t[  3.06162588 409.        ]\t[ 10.03468754 493.        ]\n",
      "94 \t100   \t[  5.40233206 488.46      ]\t[  3.06162588 409.        ]\t[ 10.03468754 493.        ]\n",
      "95 \t100   \t[  5.40233206 488.46      ]\t[  3.06162588 409.        ]\t[ 10.03468754 493.        ]\n",
      "96 \t100   \t[  5.44790107 488.48      ]\t[  3.06162588 409.        ]\t[ 10.03468754 493.        ]\n",
      "97 \t100   \t[  5.44790107 488.48      ]\t[  3.06162588 409.        ]\t[ 10.03468754 493.        ]\n",
      "98 \t100   \t[  5.44790107 488.48      ]\t[  3.06162588 409.        ]\t[ 10.03468754 493.        ]\n",
      "99 \t100   \t[  5.44790107 488.48      ]\t[  3.06162588 409.        ]\t[ 10.03468754 493.        ]\n",
      "100\t100   \t[  5.44790107 488.48      ]\t[  3.06162588 409.        ]\t[ 10.03468754 493.        ]\n",
      "CPU times: user 53.9 s, sys: 484 ms, total: 54.3 s\n",
      "Wall time: 55.4 s\n"
     ]
    }
   ],
   "source": [
    "%%time \n",
    "result, log = algorithms.eaMuPlusLambda(pop, \n",
    "                                     toolbox, \n",
    "                                     mu=POP_SIZE, # The number of individuals to select for the next generation.\n",
    "                                     lambda_= POP_SIZE, # The number of children to produce at each generation.\n",
    "                                     cxpb= CX_PROB,\n",
    "                                     mutpb= MUT_PROB, \n",
    "                                     stats= stats, \n",
    "                                     ngen= MAX_GEN,\n",
    "                                     verbose= True)"
   ]
  },
  {
   "cell_type": "code",
   "execution_count": 126,
   "metadata": {},
   "outputs": [],
   "source": [
    "fronts = tools.emo.sortLogNondominated(result, len(result))"
   ]
  },
  {
   "cell_type": "code",
   "execution_count": 127,
   "metadata": {},
   "outputs": [
    {
     "data": {
      "text/html": [
       "\n",
       "    <div class=\"bk-root\">\n",
       "        <a href=\"https://bokeh.pydata.org\" target=\"_blank\" class=\"bk-logo bk-logo-small bk-logo-notebook\"></a>\n",
       "        <span id=\"1001\">Loading BokehJS ...</span>\n",
       "    </div>"
      ]
     },
     "metadata": {},
     "output_type": "display_data"
    },
    {
     "data": {
      "application/javascript": [
       "\n",
       "(function(root) {\n",
       "  function now() {\n",
       "    return new Date();\n",
       "  }\n",
       "\n",
       "  var force = true;\n",
       "\n",
       "  if (typeof root._bokeh_onload_callbacks === \"undefined\" || force === true) {\n",
       "    root._bokeh_onload_callbacks = [];\n",
       "    root._bokeh_is_loading = undefined;\n",
       "  }\n",
       "\n",
       "  var JS_MIME_TYPE = 'application/javascript';\n",
       "  var HTML_MIME_TYPE = 'text/html';\n",
       "  var EXEC_MIME_TYPE = 'application/vnd.bokehjs_exec.v0+json';\n",
       "  var CLASS_NAME = 'output_bokeh rendered_html';\n",
       "\n",
       "  /**\n",
       "   * Render data to the DOM node\n",
       "   */\n",
       "  function render(props, node) {\n",
       "    var script = document.createElement(\"script\");\n",
       "    node.appendChild(script);\n",
       "  }\n",
       "\n",
       "  /**\n",
       "   * Handle when an output is cleared or removed\n",
       "   */\n",
       "  function handleClearOutput(event, handle) {\n",
       "    var cell = handle.cell;\n",
       "\n",
       "    var id = cell.output_area._bokeh_element_id;\n",
       "    var server_id = cell.output_area._bokeh_server_id;\n",
       "    // Clean up Bokeh references\n",
       "    if (id != null && id in Bokeh.index) {\n",
       "      Bokeh.index[id].model.document.clear();\n",
       "      delete Bokeh.index[id];\n",
       "    }\n",
       "\n",
       "    if (server_id !== undefined) {\n",
       "      // Clean up Bokeh references\n",
       "      var cmd = \"from bokeh.io.state import curstate; print(curstate().uuid_to_server['\" + server_id + \"'].get_sessions()[0].document.roots[0]._id)\";\n",
       "      cell.notebook.kernel.execute(cmd, {\n",
       "        iopub: {\n",
       "          output: function(msg) {\n",
       "            var id = msg.content.text.trim();\n",
       "            if (id in Bokeh.index) {\n",
       "              Bokeh.index[id].model.document.clear();\n",
       "              delete Bokeh.index[id];\n",
       "            }\n",
       "          }\n",
       "        }\n",
       "      });\n",
       "      // Destroy server and session\n",
       "      var cmd = \"import bokeh.io.notebook as ion; ion.destroy_server('\" + server_id + \"')\";\n",
       "      cell.notebook.kernel.execute(cmd);\n",
       "    }\n",
       "  }\n",
       "\n",
       "  /**\n",
       "   * Handle when a new output is added\n",
       "   */\n",
       "  function handleAddOutput(event, handle) {\n",
       "    var output_area = handle.output_area;\n",
       "    var output = handle.output;\n",
       "\n",
       "    // limit handleAddOutput to display_data with EXEC_MIME_TYPE content only\n",
       "    if ((output.output_type != \"display_data\") || (!output.data.hasOwnProperty(EXEC_MIME_TYPE))) {\n",
       "      return\n",
       "    }\n",
       "\n",
       "    var toinsert = output_area.element.find(\".\" + CLASS_NAME.split(' ')[0]);\n",
       "\n",
       "    if (output.metadata[EXEC_MIME_TYPE][\"id\"] !== undefined) {\n",
       "      toinsert[toinsert.length - 1].firstChild.textContent = output.data[JS_MIME_TYPE];\n",
       "      // store reference to embed id on output_area\n",
       "      output_area._bokeh_element_id = output.metadata[EXEC_MIME_TYPE][\"id\"];\n",
       "    }\n",
       "    if (output.metadata[EXEC_MIME_TYPE][\"server_id\"] !== undefined) {\n",
       "      var bk_div = document.createElement(\"div\");\n",
       "      bk_div.innerHTML = output.data[HTML_MIME_TYPE];\n",
       "      var script_attrs = bk_div.children[0].attributes;\n",
       "      for (var i = 0; i < script_attrs.length; i++) {\n",
       "        toinsert[toinsert.length - 1].firstChild.setAttribute(script_attrs[i].name, script_attrs[i].value);\n",
       "      }\n",
       "      // store reference to server id on output_area\n",
       "      output_area._bokeh_server_id = output.metadata[EXEC_MIME_TYPE][\"server_id\"];\n",
       "    }\n",
       "  }\n",
       "\n",
       "  function register_renderer(events, OutputArea) {\n",
       "\n",
       "    function append_mime(data, metadata, element) {\n",
       "      // create a DOM node to render to\n",
       "      var toinsert = this.create_output_subarea(\n",
       "        metadata,\n",
       "        CLASS_NAME,\n",
       "        EXEC_MIME_TYPE\n",
       "      );\n",
       "      this.keyboard_manager.register_events(toinsert);\n",
       "      // Render to node\n",
       "      var props = {data: data, metadata: metadata[EXEC_MIME_TYPE]};\n",
       "      render(props, toinsert[toinsert.length - 1]);\n",
       "      element.append(toinsert);\n",
       "      return toinsert\n",
       "    }\n",
       "\n",
       "    /* Handle when an output is cleared or removed */\n",
       "    events.on('clear_output.CodeCell', handleClearOutput);\n",
       "    events.on('delete.Cell', handleClearOutput);\n",
       "\n",
       "    /* Handle when a new output is added */\n",
       "    events.on('output_added.OutputArea', handleAddOutput);\n",
       "\n",
       "    /**\n",
       "     * Register the mime type and append_mime function with output_area\n",
       "     */\n",
       "    OutputArea.prototype.register_mime_type(EXEC_MIME_TYPE, append_mime, {\n",
       "      /* Is output safe? */\n",
       "      safe: true,\n",
       "      /* Index of renderer in `output_area.display_order` */\n",
       "      index: 0\n",
       "    });\n",
       "  }\n",
       "\n",
       "  // register the mime type if in Jupyter Notebook environment and previously unregistered\n",
       "  if (root.Jupyter !== undefined) {\n",
       "    var events = require('base/js/events');\n",
       "    var OutputArea = require('notebook/js/outputarea').OutputArea;\n",
       "\n",
       "    if (OutputArea.prototype.mime_types().indexOf(EXEC_MIME_TYPE) == -1) {\n",
       "      register_renderer(events, OutputArea);\n",
       "    }\n",
       "  }\n",
       "\n",
       "  \n",
       "  if (typeof (root._bokeh_timeout) === \"undefined\" || force === true) {\n",
       "    root._bokeh_timeout = Date.now() + 5000;\n",
       "    root._bokeh_failed_load = false;\n",
       "  }\n",
       "\n",
       "  var NB_LOAD_WARNING = {'data': {'text/html':\n",
       "     \"<div style='background-color: #fdd'>\\n\"+\n",
       "     \"<p>\\n\"+\n",
       "     \"BokehJS does not appear to have successfully loaded. If loading BokehJS from CDN, this \\n\"+\n",
       "     \"may be due to a slow or bad network connection. Possible fixes:\\n\"+\n",
       "     \"</p>\\n\"+\n",
       "     \"<ul>\\n\"+\n",
       "     \"<li>re-rerun `output_notebook()` to attempt to load from CDN again, or</li>\\n\"+\n",
       "     \"<li>use INLINE resources instead, as so:</li>\\n\"+\n",
       "     \"</ul>\\n\"+\n",
       "     \"<code>\\n\"+\n",
       "     \"from bokeh.resources import INLINE\\n\"+\n",
       "     \"output_notebook(resources=INLINE)\\n\"+\n",
       "     \"</code>\\n\"+\n",
       "     \"</div>\"}};\n",
       "\n",
       "  function display_loaded() {\n",
       "    var el = document.getElementById(\"1001\");\n",
       "    if (el != null) {\n",
       "      el.textContent = \"BokehJS is loading...\";\n",
       "    }\n",
       "    if (root.Bokeh !== undefined) {\n",
       "      if (el != null) {\n",
       "        el.textContent = \"BokehJS \" + root.Bokeh.version + \" successfully loaded.\";\n",
       "      }\n",
       "    } else if (Date.now() < root._bokeh_timeout) {\n",
       "      setTimeout(display_loaded, 100)\n",
       "    }\n",
       "  }\n",
       "\n",
       "\n",
       "  function run_callbacks() {\n",
       "    try {\n",
       "      root._bokeh_onload_callbacks.forEach(function(callback) {\n",
       "        if (callback != null)\n",
       "          callback();\n",
       "      });\n",
       "    } finally {\n",
       "      delete root._bokeh_onload_callbacks\n",
       "    }\n",
       "    console.debug(\"Bokeh: all callbacks have finished\");\n",
       "  }\n",
       "\n",
       "  function load_libs(css_urls, js_urls, callback) {\n",
       "    if (css_urls == null) css_urls = [];\n",
       "    if (js_urls == null) js_urls = [];\n",
       "\n",
       "    root._bokeh_onload_callbacks.push(callback);\n",
       "    if (root._bokeh_is_loading > 0) {\n",
       "      console.debug(\"Bokeh: BokehJS is being loaded, scheduling callback at\", now());\n",
       "      return null;\n",
       "    }\n",
       "    if (js_urls == null || js_urls.length === 0) {\n",
       "      run_callbacks();\n",
       "      return null;\n",
       "    }\n",
       "    console.debug(\"Bokeh: BokehJS not loaded, scheduling load and callback at\", now());\n",
       "    root._bokeh_is_loading = css_urls.length + js_urls.length;\n",
       "\n",
       "    function on_load() {\n",
       "      root._bokeh_is_loading--;\n",
       "      if (root._bokeh_is_loading === 0) {\n",
       "        console.debug(\"Bokeh: all BokehJS libraries/stylesheets loaded\");\n",
       "        run_callbacks()\n",
       "      }\n",
       "    }\n",
       "\n",
       "    function on_error() {\n",
       "      console.error(\"failed to load \" + url);\n",
       "    }\n",
       "\n",
       "    for (var i = 0; i < css_urls.length; i++) {\n",
       "      var url = css_urls[i];\n",
       "      const element = document.createElement(\"link\");\n",
       "      element.onload = on_load;\n",
       "      element.onerror = on_error;\n",
       "      element.rel = \"stylesheet\";\n",
       "      element.type = \"text/css\";\n",
       "      element.href = url;\n",
       "      console.debug(\"Bokeh: injecting link tag for BokehJS stylesheet: \", url);\n",
       "      document.body.appendChild(element);\n",
       "    }\n",
       "\n",
       "    for (var i = 0; i < js_urls.length; i++) {\n",
       "      var url = js_urls[i];\n",
       "      var element = document.createElement('script');\n",
       "      element.onload = on_load;\n",
       "      element.onerror = on_error;\n",
       "      element.async = false;\n",
       "      element.src = url;\n",
       "      console.debug(\"Bokeh: injecting script tag for BokehJS library: \", url);\n",
       "      document.head.appendChild(element);\n",
       "    }\n",
       "  };var element = document.getElementById(\"1001\");\n",
       "  if (element == null) {\n",
       "    console.error(\"Bokeh: ERROR: autoload.js configured with elementid '1001' but no matching script tag was found. \")\n",
       "    return false;\n",
       "  }\n",
       "\n",
       "  function inject_raw_css(css) {\n",
       "    const element = document.createElement(\"style\");\n",
       "    element.appendChild(document.createTextNode(css));\n",
       "    document.body.appendChild(element);\n",
       "  }\n",
       "\n",
       "  var js_urls = [\"https://cdn.pydata.org/bokeh/release/bokeh-1.2.0.min.js\", \"https://cdn.pydata.org/bokeh/release/bokeh-widgets-1.2.0.min.js\", \"https://cdn.pydata.org/bokeh/release/bokeh-tables-1.2.0.min.js\", \"https://cdn.pydata.org/bokeh/release/bokeh-gl-1.2.0.min.js\"];\n",
       "  var css_urls = [\"https://cdn.pydata.org/bokeh/release/bokeh-1.2.0.min.css\", \"https://cdn.pydata.org/bokeh/release/bokeh-widgets-1.2.0.min.css\", \"https://cdn.pydata.org/bokeh/release/bokeh-tables-1.2.0.min.css\"];\n",
       "\n",
       "  var inline_js = [\n",
       "    function(Bokeh) {\n",
       "      Bokeh.set_log_level(\"info\");\n",
       "    },\n",
       "    \n",
       "    function(Bokeh) {\n",
       "      \n",
       "    },\n",
       "    function(Bokeh) {} // ensure no trailing comma for IE\n",
       "  ];\n",
       "\n",
       "  function run_inline_js() {\n",
       "    \n",
       "    if ((root.Bokeh !== undefined) || (force === true)) {\n",
       "      for (var i = 0; i < inline_js.length; i++) {\n",
       "        inline_js[i].call(root, root.Bokeh);\n",
       "      }if (force === true) {\n",
       "        display_loaded();\n",
       "      }} else if (Date.now() < root._bokeh_timeout) {\n",
       "      setTimeout(run_inline_js, 100);\n",
       "    } else if (!root._bokeh_failed_load) {\n",
       "      console.log(\"Bokeh: BokehJS failed to load within specified timeout.\");\n",
       "      root._bokeh_failed_load = true;\n",
       "    } else if (force !== true) {\n",
       "      var cell = $(document.getElementById(\"1001\")).parents('.cell').data().cell;\n",
       "      cell.output_area.append_execute_result(NB_LOAD_WARNING)\n",
       "    }\n",
       "\n",
       "  }\n",
       "\n",
       "  if (root._bokeh_is_loading === 0) {\n",
       "    console.debug(\"Bokeh: BokehJS loaded, going straight to plotting\");\n",
       "    run_inline_js();\n",
       "  } else {\n",
       "    load_libs(css_urls, js_urls, function() {\n",
       "      console.debug(\"Bokeh: BokehJS plotting callback run at\", now());\n",
       "      run_inline_js();\n",
       "    });\n",
       "  }\n",
       "}(window));"
      ],
      "application/vnd.bokehjs_load.v0+json": "\n(function(root) {\n  function now() {\n    return new Date();\n  }\n\n  var force = true;\n\n  if (typeof root._bokeh_onload_callbacks === \"undefined\" || force === true) {\n    root._bokeh_onload_callbacks = [];\n    root._bokeh_is_loading = undefined;\n  }\n\n  \n\n  \n  if (typeof (root._bokeh_timeout) === \"undefined\" || force === true) {\n    root._bokeh_timeout = Date.now() + 5000;\n    root._bokeh_failed_load = false;\n  }\n\n  var NB_LOAD_WARNING = {'data': {'text/html':\n     \"<div style='background-color: #fdd'>\\n\"+\n     \"<p>\\n\"+\n     \"BokehJS does not appear to have successfully loaded. If loading BokehJS from CDN, this \\n\"+\n     \"may be due to a slow or bad network connection. Possible fixes:\\n\"+\n     \"</p>\\n\"+\n     \"<ul>\\n\"+\n     \"<li>re-rerun `output_notebook()` to attempt to load from CDN again, or</li>\\n\"+\n     \"<li>use INLINE resources instead, as so:</li>\\n\"+\n     \"</ul>\\n\"+\n     \"<code>\\n\"+\n     \"from bokeh.resources import INLINE\\n\"+\n     \"output_notebook(resources=INLINE)\\n\"+\n     \"</code>\\n\"+\n     \"</div>\"}};\n\n  function display_loaded() {\n    var el = document.getElementById(\"1001\");\n    if (el != null) {\n      el.textContent = \"BokehJS is loading...\";\n    }\n    if (root.Bokeh !== undefined) {\n      if (el != null) {\n        el.textContent = \"BokehJS \" + root.Bokeh.version + \" successfully loaded.\";\n      }\n    } else if (Date.now() < root._bokeh_timeout) {\n      setTimeout(display_loaded, 100)\n    }\n  }\n\n\n  function run_callbacks() {\n    try {\n      root._bokeh_onload_callbacks.forEach(function(callback) {\n        if (callback != null)\n          callback();\n      });\n    } finally {\n      delete root._bokeh_onload_callbacks\n    }\n    console.debug(\"Bokeh: all callbacks have finished\");\n  }\n\n  function load_libs(css_urls, js_urls, callback) {\n    if (css_urls == null) css_urls = [];\n    if (js_urls == null) js_urls = [];\n\n    root._bokeh_onload_callbacks.push(callback);\n    if (root._bokeh_is_loading > 0) {\n      console.debug(\"Bokeh: BokehJS is being loaded, scheduling callback at\", now());\n      return null;\n    }\n    if (js_urls == null || js_urls.length === 0) {\n      run_callbacks();\n      return null;\n    }\n    console.debug(\"Bokeh: BokehJS not loaded, scheduling load and callback at\", now());\n    root._bokeh_is_loading = css_urls.length + js_urls.length;\n\n    function on_load() {\n      root._bokeh_is_loading--;\n      if (root._bokeh_is_loading === 0) {\n        console.debug(\"Bokeh: all BokehJS libraries/stylesheets loaded\");\n        run_callbacks()\n      }\n    }\n\n    function on_error() {\n      console.error(\"failed to load \" + url);\n    }\n\n    for (var i = 0; i < css_urls.length; i++) {\n      var url = css_urls[i];\n      const element = document.createElement(\"link\");\n      element.onload = on_load;\n      element.onerror = on_error;\n      element.rel = \"stylesheet\";\n      element.type = \"text/css\";\n      element.href = url;\n      console.debug(\"Bokeh: injecting link tag for BokehJS stylesheet: \", url);\n      document.body.appendChild(element);\n    }\n\n    for (var i = 0; i < js_urls.length; i++) {\n      var url = js_urls[i];\n      var element = document.createElement('script');\n      element.onload = on_load;\n      element.onerror = on_error;\n      element.async = false;\n      element.src = url;\n      console.debug(\"Bokeh: injecting script tag for BokehJS library: \", url);\n      document.head.appendChild(element);\n    }\n  };var element = document.getElementById(\"1001\");\n  if (element == null) {\n    console.error(\"Bokeh: ERROR: autoload.js configured with elementid '1001' but no matching script tag was found. \")\n    return false;\n  }\n\n  function inject_raw_css(css) {\n    const element = document.createElement(\"style\");\n    element.appendChild(document.createTextNode(css));\n    document.body.appendChild(element);\n  }\n\n  var js_urls = [\"https://cdn.pydata.org/bokeh/release/bokeh-1.2.0.min.js\", \"https://cdn.pydata.org/bokeh/release/bokeh-widgets-1.2.0.min.js\", \"https://cdn.pydata.org/bokeh/release/bokeh-tables-1.2.0.min.js\", \"https://cdn.pydata.org/bokeh/release/bokeh-gl-1.2.0.min.js\"];\n  var css_urls = [\"https://cdn.pydata.org/bokeh/release/bokeh-1.2.0.min.css\", \"https://cdn.pydata.org/bokeh/release/bokeh-widgets-1.2.0.min.css\", \"https://cdn.pydata.org/bokeh/release/bokeh-tables-1.2.0.min.css\"];\n\n  var inline_js = [\n    function(Bokeh) {\n      Bokeh.set_log_level(\"info\");\n    },\n    \n    function(Bokeh) {\n      \n    },\n    function(Bokeh) {} // ensure no trailing comma for IE\n  ];\n\n  function run_inline_js() {\n    \n    if ((root.Bokeh !== undefined) || (force === true)) {\n      for (var i = 0; i < inline_js.length; i++) {\n        inline_js[i].call(root, root.Bokeh);\n      }if (force === true) {\n        display_loaded();\n      }} else if (Date.now() < root._bokeh_timeout) {\n      setTimeout(run_inline_js, 100);\n    } else if (!root._bokeh_failed_load) {\n      console.log(\"Bokeh: BokehJS failed to load within specified timeout.\");\n      root._bokeh_failed_load = true;\n    } else if (force !== true) {\n      var cell = $(document.getElementById(\"1001\")).parents('.cell').data().cell;\n      cell.output_area.append_execute_result(NB_LOAD_WARNING)\n    }\n\n  }\n\n  if (root._bokeh_is_loading === 0) {\n    console.debug(\"Bokeh: BokehJS loaded, going straight to plotting\");\n    run_inline_js();\n  } else {\n    load_libs(css_urls, js_urls, function() {\n      console.debug(\"Bokeh: BokehJS plotting callback run at\", now());\n      run_inline_js();\n    });\n  }\n}(window));"
     },
     "metadata": {},
     "output_type": "display_data"
    }
   ],
   "source": [
    "from bokeh.plotting import figure, output_notebook, show\n",
    "from bokeh.models import HoverTool, ColumnDataSource\n",
    "from bokeh import palettes\n",
    "output_notebook()"
   ]
  },
  {
   "cell_type": "code",
   "execution_count": 130,
   "metadata": {},
   "outputs": [],
   "source": [
    "def viz_front(fronts):\n",
    "    TOOLS = \"pan,wheel_zoom,box_zoom,reset\"\n",
    "    hover = HoverTool(\n",
    "            tooltips=[\n",
    "                (\"index\", \"$index\"),\n",
    "                (\"(x,y)\", \"($x, $y)\"),\n",
    "                (\"individual\", \"@ind\"),\n",
    "            ]\n",
    "        )\n",
    "    front_colors = []\n",
    "    p = figure(plot_width=700, plot_height=700, tools=[TOOLS,hover], title=\"NSGAii Test\")\n",
    "\n",
    "    for i,inds in enumerate(fronts):\n",
    "        par = [(ind, toolbox.evaluate(ind)) for ind in inds]\n",
    "        source = ColumnDataSource(\n",
    "                data=dict(\n",
    "                    x= [p[1][0] for p in par],\n",
    "                    y= [p[1][1] for p in par],\n",
    "                    ind= [p[0] for p in par]\n",
    "                )\n",
    "            )\n",
    "        p.circle('x', 'y', size=10, source=source, alpha=0.7, fill_color=palettes.YlGnBu9[i], legend='Front %s'%(i+1), line_color=\"#ffffff\")\n",
    "    show(p)"
   ]
  },
  {
   "cell_type": "code",
   "execution_count": 131,
   "metadata": {},
   "outputs": [
    {
     "data": {
      "text/html": [
       "\n",
       "\n",
       "\n",
       "\n",
       "\n",
       "\n",
       "  <div class=\"bk-root\" id=\"b3ddee63-aa30-4e53-a327-e91cf1dd4f38\" data-root-id=\"1029\"></div>\n"
      ]
     },
     "metadata": {},
     "output_type": "display_data"
    },
    {
     "data": {
      "application/javascript": [
       "(function(root) {\n",
       "  function embed_document(root) {\n",
       "    \n",
       "  var docs_json = {\"41d92c16-31d2-497b-acf3-f2211a460797\":{\"roots\":{\"references\":[{\"attributes\":{\"below\":[{\"id\":\"1040\",\"type\":\"LinearAxis\"}],\"center\":[{\"id\":\"1044\",\"type\":\"Grid\"},{\"id\":\"1049\",\"type\":\"Grid\"},{\"id\":\"1072\",\"type\":\"Legend\"}],\"left\":[{\"id\":\"1045\",\"type\":\"LinearAxis\"}],\"plot_height\":700,\"plot_width\":700,\"renderers\":[{\"id\":\"1064\",\"type\":\"GlyphRenderer\"}],\"title\":{\"id\":\"1030\",\"type\":\"Title\"},\"toolbar\":{\"id\":\"1054\",\"type\":\"Toolbar\"},\"x_range\":{\"id\":\"1032\",\"type\":\"DataRange1d\"},\"x_scale\":{\"id\":\"1036\",\"type\":\"LinearScale\"},\"y_range\":{\"id\":\"1034\",\"type\":\"DataRange1d\"},\"y_scale\":{\"id\":\"1038\",\"type\":\"LinearScale\"}},\"id\":\"1029\",\"subtype\":\"Figure\",\"type\":\"Plot\"},{\"attributes\":{},\"id\":\"1050\",\"type\":\"PanTool\"},{\"attributes\":{\"overlay\":{\"id\":\"1071\",\"type\":\"BoxAnnotation\"}},\"id\":\"1052\",\"type\":\"BoxZoomTool\"},{\"attributes\":{},\"id\":\"1051\",\"type\":\"WheelZoomTool\"},{\"attributes\":{},\"id\":\"1053\",\"type\":\"ResetTool\"},{\"attributes\":{\"fill_alpha\":{\"value\":0.7},\"fill_color\":{\"value\":\"#081d58\"},\"line_alpha\":{\"value\":0.7},\"line_color\":{\"value\":\"#ffffff\"},\"size\":{\"units\":\"screen\",\"value\":10},\"x\":{\"field\":\"x\"},\"y\":{\"field\":\"y\"}},\"id\":\"1062\",\"type\":\"Circle\"},{\"attributes\":{\"formatter\":{\"id\":\"1067\",\"type\":\"BasicTickFormatter\"},\"ticker\":{\"id\":\"1041\",\"type\":\"BasicTicker\"}},\"id\":\"1040\",\"type\":\"LinearAxis\"},{\"attributes\":{\"active_drag\":\"auto\",\"active_inspect\":\"auto\",\"active_multi\":null,\"active_scroll\":\"auto\",\"active_tap\":\"auto\",\"tools\":[{\"id\":\"1028\",\"type\":\"HoverTool\"},{\"id\":\"1050\",\"type\":\"PanTool\"},{\"id\":\"1051\",\"type\":\"WheelZoomTool\"},{\"id\":\"1052\",\"type\":\"BoxZoomTool\"},{\"id\":\"1053\",\"type\":\"ResetTool\"}]},\"id\":\"1054\",\"type\":\"Toolbar\"},{\"attributes\":{\"dimension\":1,\"ticker\":{\"id\":\"1046\",\"type\":\"BasicTicker\"}},\"id\":\"1049\",\"type\":\"Grid\"},{\"attributes\":{\"source\":{\"id\":\"1060\",\"type\":\"ColumnDataSource\"}},\"id\":\"1065\",\"type\":\"CDSView\"},{\"attributes\":{\"callback\":null,\"tooltips\":[[\"index\",\"$index\"],[\"(x,y)\",\"($x, $y)\"],[\"individual\",\"@ind\"]]},\"id\":\"1028\",\"type\":\"HoverTool\"},{\"attributes\":{\"fill_alpha\":{\"value\":0.1},\"fill_color\":{\"value\":\"#1f77b4\"},\"line_alpha\":{\"value\":0.1},\"line_color\":{\"value\":\"#1f77b4\"},\"size\":{\"units\":\"screen\",\"value\":10},\"x\":{\"field\":\"x\"},\"y\":{\"field\":\"y\"}},\"id\":\"1063\",\"type\":\"Circle\"},{\"attributes\":{\"data_source\":{\"id\":\"1060\",\"type\":\"ColumnDataSource\"},\"glyph\":{\"id\":\"1062\",\"type\":\"Circle\"},\"hover_glyph\":null,\"muted_glyph\":null,\"nonselection_glyph\":{\"id\":\"1063\",\"type\":\"Circle\"},\"selection_glyph\":null,\"view\":{\"id\":\"1065\",\"type\":\"CDSView\"}},\"id\":\"1064\",\"type\":\"GlyphRenderer\"},{\"attributes\":{},\"id\":\"1069\",\"type\":\"BasicTickFormatter\"},{\"attributes\":{},\"id\":\"1046\",\"type\":\"BasicTicker\"},{\"attributes\":{\"formatter\":{\"id\":\"1069\",\"type\":\"BasicTickFormatter\"},\"ticker\":{\"id\":\"1046\",\"type\":\"BasicTicker\"}},\"id\":\"1045\",\"type\":\"LinearAxis\"},{\"attributes\":{},\"id\":\"1067\",\"type\":\"BasicTickFormatter\"},{\"attributes\":{},\"id\":\"1041\",\"type\":\"BasicTicker\"},{\"attributes\":{\"ticker\":{\"id\":\"1041\",\"type\":\"BasicTicker\"}},\"id\":\"1044\",\"type\":\"Grid\"},{\"attributes\":{\"callback\":null,\"data\":{\"ind\":[[6,7,0,26,25],[26,25,2,3,14],[26,25,2,3,14],[26,25,0,7,13],[26,25,0,7,13],[7,13,3,25,26],[26,25,3,14,13],[26,25,3,14,13],[26,25,7,13,14],[26,25,7,13,14],[26,25,7,13,14],[26,25,7,13,14],[26,25,7,13,14],[26,25,7,13,14],[26,25,7,13,14],[26,25,7,13,14],[26,25,7,13,14],[26,25,7,13,14],[26,25,7,13,14],[26,25,7,13,14],[26,25,7,13,14],[26,25,7,13,14],[26,25,7,13,14],[26,25,7,13,14],[26,25,7,13,14],[26,25,7,13,14],[26,25,7,13,14],[26,25,7,13,14],[26,25,7,13,14],[26,25,7,13,14],[26,25,7,13,14],[26,25,7,13,14],[26,25,7,13,14],[26,25,7,13,14],[26,25,7,13,14],[26,25,7,13,14],[26,25,7,13,14],[26,25,7,13,14],[26,25,7,13,14],[26,25,7,13,14],[26,25,7,13,14],[26,25,7,13,14],[26,25,7,13,14],[26,25,7,13,14],[26,25,7,13,14],[26,25,7,13,14],[26,25,7,13,14],[26,25,7,13,14],[26,25,7,13,14],[26,25,7,13,14],[26,25,7,13,14],[26,25,7,13,14],[26,25,7,13,14],[26,25,7,13,14],[26,25,7,13,14],[26,25,7,13,14],[26,25,7,13,14],[26,25,7,13,14],[26,25,7,13,14],[26,25,7,13,14],[26,25,7,13,14],[26,25,7,13,14],[14,13,7,25,26],[26,25,7,13,14],[26,25,7,13,14],[26,25,7,13,14],[26,25,7,13,14],[14,13,7,25,26],[26,25,7,13,14],[26,25,7,13,14],[26,25,7,13,14],[26,25,7,13,14],[26,25,7,13,14],[26,25,7,13,14],[26,25,7,13,14],[26,25,7,13,14],[26,25,7,13,14],[26,25,7,13,14],[26,25,7,13,14],[26,25,7,13,14],[26,25,7,13,14],[26,25,7,13,14],[26,25,7,13,14],[26,25,7,13,14],[26,25,7,13,14],[26,25,7,13,14],[26,25,7,13,14],[26,25,7,13,14],[26,25,7,13,14],[26,25,7,13,14],[26,25,7,13,14],[26,25,7,13,14],[26,25,7,13,14],[26,25,7,13,14],[26,25,7,13,14],[26,25,7,13,14],[26,25,7,13,14],[26,25,7,13,14],[50,7,25,26,14],[50,7,25,26,14]],\"x\":[3.0616258843524053,3.2716510952179525,3.2716510952179525,3.779860076959749,3.779860076959749,4.553190894319417,5.001034716621495,5.001034716621495,5.477786922307644,5.477786922307644,5.477786922307644,5.477786922307644,5.477786922307644,5.477786922307644,5.477786922307644,5.477786922307644,5.477786922307644,5.477786922307644,5.477786922307644,5.477786922307644,5.477786922307644,5.477786922307644,5.477786922307644,5.477786922307644,5.477786922307644,5.477786922307644,5.477786922307644,5.477786922307644,5.477786922307644,5.477786922307644,5.477786922307644,5.477786922307644,5.477786922307644,5.477786922307644,5.477786922307644,5.477786922307644,5.477786922307644,5.477786922307644,5.477786922307644,5.477786922307644,5.477786922307644,5.477786922307644,5.477786922307644,5.477786922307644,5.477786922307644,5.477786922307644,5.477786922307644,5.477786922307644,5.477786922307644,5.477786922307644,5.477786922307644,5.477786922307644,5.477786922307644,5.477786922307644,5.477786922307644,5.477786922307644,5.477786922307644,5.477786922307644,5.477786922307644,5.477786922307644,5.477786922307644,5.477786922307644,5.477786922307644,5.477786922307644,5.477786922307644,5.477786922307644,5.477786922307644,5.477786922307644,5.477786922307644,5.477786922307644,5.477786922307644,5.477786922307644,5.477786922307644,5.477786922307644,5.477786922307644,5.477786922307644,5.477786922307644,5.477786922307644,5.477786922307644,5.477786922307644,5.477786922307644,5.477786922307644,5.477786922307644,5.477786922307644,5.477786922307644,5.477786922307644,5.477786922307644,5.477786922307644,5.477786922307644,5.477786922307644,5.477786922307644,5.477786922307644,5.477786922307644,5.477786922307644,5.477786922307644,5.477786922307644,5.477786922307644,5.477786922307644,10.034687542626417,10.034687542626417],\"y\":[409,439,439,472,472,479,481,481,491,491,491,491,491,491,491,491,491,491,491,491,491,491,491,491,491,491,491,491,491,491,491,491,491,491,491,491,491,491,491,491,491,491,491,491,491,491,491,491,491,491,491,491,491,491,491,491,491,491,491,491,491,491,491,491,491,491,491,491,491,491,491,491,491,491,491,491,491,491,491,491,491,491,491,491,491,491,491,491,491,491,491,491,491,491,491,491,491,491,493,493]},\"selected\":{\"id\":\"1080\",\"type\":\"Selection\"},\"selection_policy\":{\"id\":\"1079\",\"type\":\"UnionRenderers\"}},\"id\":\"1060\",\"type\":\"ColumnDataSource\"},{\"attributes\":{\"bottom_units\":\"screen\",\"fill_alpha\":{\"value\":0.5},\"fill_color\":{\"value\":\"lightgrey\"},\"left_units\":\"screen\",\"level\":\"overlay\",\"line_alpha\":{\"value\":1.0},\"line_color\":{\"value\":\"black\"},\"line_dash\":[4,4],\"line_width\":{\"value\":2},\"render_mode\":\"css\",\"right_units\":\"screen\",\"top_units\":\"screen\"},\"id\":\"1071\",\"type\":\"BoxAnnotation\"},{\"attributes\":{\"callback\":null},\"id\":\"1032\",\"type\":\"DataRange1d\"},{\"attributes\":{},\"id\":\"1080\",\"type\":\"Selection\"},{\"attributes\":{\"items\":[{\"id\":\"1073\",\"type\":\"LegendItem\"}]},\"id\":\"1072\",\"type\":\"Legend\"},{\"attributes\":{\"text\":\"NSGAii Test\"},\"id\":\"1030\",\"type\":\"Title\"},{\"attributes\":{\"callback\":null},\"id\":\"1034\",\"type\":\"DataRange1d\"},{\"attributes\":{\"label\":{\"value\":\"Front 1\"},\"renderers\":[{\"id\":\"1064\",\"type\":\"GlyphRenderer\"}]},\"id\":\"1073\",\"type\":\"LegendItem\"},{\"attributes\":{},\"id\":\"1079\",\"type\":\"UnionRenderers\"},{\"attributes\":{},\"id\":\"1036\",\"type\":\"LinearScale\"},{\"attributes\":{},\"id\":\"1038\",\"type\":\"LinearScale\"}],\"root_ids\":[\"1029\"]},\"title\":\"Bokeh Application\",\"version\":\"1.2.0\"}};\n",
       "  var render_items = [{\"docid\":\"41d92c16-31d2-497b-acf3-f2211a460797\",\"roots\":{\"1029\":\"b3ddee63-aa30-4e53-a327-e91cf1dd4f38\"}}];\n",
       "  root.Bokeh.embed.embed_items_notebook(docs_json, render_items);\n",
       "\n",
       "  }\n",
       "  if (root.Bokeh !== undefined) {\n",
       "    embed_document(root);\n",
       "  } else {\n",
       "    var attempts = 0;\n",
       "    var timer = setInterval(function(root) {\n",
       "      if (root.Bokeh !== undefined) {\n",
       "        embed_document(root);\n",
       "        clearInterval(timer);\n",
       "      }\n",
       "      attempts++;\n",
       "      if (attempts > 100) {\n",
       "        console.log(\"Bokeh: ERROR: Unable to run BokehJS code because BokehJS library is missing\");\n",
       "        clearInterval(timer);\n",
       "      }\n",
       "    }, 10, root)\n",
       "  }\n",
       "})(window);"
      ],
      "application/vnd.bokehjs_exec.v0+json": ""
     },
     "metadata": {
      "application/vnd.bokehjs_exec.v0+json": {
       "id": "1029"
      }
     },
     "output_type": "display_data"
    }
   ],
   "source": [
    "viz_front(fronts)"
   ]
  },
  {
   "cell_type": "code",
   "execution_count": 132,
   "metadata": {},
   "outputs": [
    {
     "data": {
      "text/plain": [
       "[6, 7, 0, 26, 25]"
      ]
     },
     "execution_count": 132,
     "metadata": {},
     "output_type": "execute_result"
    }
   ],
   "source": [
    "fronts[0][0]"
   ]
  },
  {
   "cell_type": "code",
   "execution_count": 133,
   "metadata": {},
   "outputs": [
    {
     "data": {
      "text/html": [
       "<div>\n",
       "<style scoped>\n",
       "    .dataframe tbody tr th:only-of-type {\n",
       "        vertical-align: middle;\n",
       "    }\n",
       "\n",
       "    .dataframe tbody tr th {\n",
       "        vertical-align: top;\n",
       "    }\n",
       "\n",
       "    .dataframe thead th {\n",
       "        text-align: right;\n",
       "    }\n",
       "</style>\n",
       "<table border=\"1\" class=\"dataframe\">\n",
       "  <thead>\n",
       "    <tr style=\"text-align: right;\">\n",
       "      <th></th>\n",
       "      <th>street_ko</th>\n",
       "      <th>street_en</th>\n",
       "      <th>address</th>\n",
       "      <th>dong_ko</th>\n",
       "      <th>dong_en</th>\n",
       "      <th>lng</th>\n",
       "      <th>lat</th>\n",
       "      <th>score</th>\n",
       "    </tr>\n",
       "  </thead>\n",
       "  <tbody>\n",
       "    <tr>\n",
       "      <th>6</th>\n",
       "      <td>돌담길</td>\n",
       "      <td>Doldam-gil</td>\n",
       "      <td>서울시 중구 소공동 일대</td>\n",
       "      <td>소공동</td>\n",
       "      <td>Sogong-dong</td>\n",
       "      <td>126.979934</td>\n",
       "      <td>37.564130</td>\n",
       "      <td>34</td>\n",
       "    </tr>\n",
       "    <tr>\n",
       "      <th>7</th>\n",
       "      <td>명동거리</td>\n",
       "      <td>Myeong-dong street</td>\n",
       "      <td>서울시 중구 명동 일대</td>\n",
       "      <td>명동</td>\n",
       "      <td>Myeong-dong</td>\n",
       "      <td>126.978819</td>\n",
       "      <td>37.568059</td>\n",
       "      <td>97</td>\n",
       "    </tr>\n",
       "    <tr>\n",
       "      <th>0</th>\n",
       "      <td>남대문거리</td>\n",
       "      <td>fishing-tackle street</td>\n",
       "      <td>서울시 중구 회현동 일대</td>\n",
       "      <td>회현동</td>\n",
       "      <td>Hoehyeon-dong</td>\n",
       "      <td>126.977432</td>\n",
       "      <td>37.558050</td>\n",
       "      <td>80</td>\n",
       "    </tr>\n",
       "    <tr>\n",
       "      <th>26</th>\n",
       "      <td>이태원거리</td>\n",
       "      <td>Itaewon street</td>\n",
       "      <td>서울시 용산구 이태원1동 일대</td>\n",
       "      <td>이태원1동</td>\n",
       "      <td>Itaewon2-dong</td>\n",
       "      <td>126.991704</td>\n",
       "      <td>37.538994</td>\n",
       "      <td>99</td>\n",
       "    </tr>\n",
       "    <tr>\n",
       "      <th>25</th>\n",
       "      <td>경리단길</td>\n",
       "      <td>Finance corps street</td>\n",
       "      <td>서울시 용산구 이태원2동 일대</td>\n",
       "      <td>이태원2동</td>\n",
       "      <td>Itaewon2-dong</td>\n",
       "      <td>126.991664</td>\n",
       "      <td>37.539718</td>\n",
       "      <td>99</td>\n",
       "    </tr>\n",
       "  </tbody>\n",
       "</table>\n",
       "</div>"
      ],
      "text/plain": [
       "   street_ko              street_en           address dong_ko        dong_en  \\\n",
       "6        돌담길             Doldam-gil     서울시 중구 소공동 일대     소공동    Sogong-dong   \n",
       "7       명동거리     Myeong-dong street      서울시 중구 명동 일대      명동    Myeong-dong   \n",
       "0      남대문거리  fishing-tackle street     서울시 중구 회현동 일대     회현동  Hoehyeon-dong   \n",
       "26     이태원거리         Itaewon street  서울시 용산구 이태원1동 일대   이태원1동  Itaewon2-dong   \n",
       "25      경리단길   Finance corps street  서울시 용산구 이태원2동 일대   이태원2동  Itaewon2-dong   \n",
       "\n",
       "           lng        lat  score  \n",
       "6   126.979934  37.564130     34  \n",
       "7   126.978819  37.568059     97  \n",
       "0   126.977432  37.558050     80  \n",
       "26  126.991704  37.538994     99  \n",
       "25  126.991664  37.539718     99  "
      ]
     },
     "execution_count": 133,
     "metadata": {},
     "output_type": "execute_result"
    }
   ],
   "source": [
    "df.iloc[fronts[0][0]]"
   ]
  },
  {
   "cell_type": "code",
   "execution_count": 134,
   "metadata": {},
   "outputs": [
    {
     "name": "stdout",
     "output_type": "stream",
     "text": [
      "(10.034687542626417, 493)\n"
     ]
    },
    {
     "name": "stderr",
     "output_type": "stream",
     "text": [
      "/Library/Frameworks/Python.framework/Versions/3.6/lib/python3.6/site-packages/ipykernel_launcher.py:5: FutureWarning: Method `add_children` is deprecated. Please use `add_child` instead.\n",
      "  \"\"\"\n"
     ]
    },
    {
     "data": {
      "text/html": [
       "<div style=\"width:100%;\"><div style=\"position:relative;width:100%;height:0;padding-bottom:60%;\"><iframe src=\"data:text/html;charset=utf-8;base64,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\" style=\"position:absolute;width:100%;height:100%;left:0;top:0;border:none !important;\" allowfullscreen webkitallowfullscreen mozallowfullscreen></iframe></div></div>"
      ],
      "text/plain": [
       "<folium.folium.Map at 0x111768b70>"
      ]
     },
     "execution_count": 134,
     "metadata": {},
     "output_type": "execute_result"
    }
   ],
   "source": [
    "print(eval_func(fronts[0][99])) # Higher score but Longer distance\n",
    "plot_tour(fronts[0][99])"
   ]
  },
  {
   "cell_type": "code",
   "execution_count": 135,
   "metadata": {},
   "outputs": [
    {
     "name": "stdout",
     "output_type": "stream",
     "text": [
      "(3.0616258843524053, 409)\n"
     ]
    },
    {
     "name": "stderr",
     "output_type": "stream",
     "text": [
      "/Library/Frameworks/Python.framework/Versions/3.6/lib/python3.6/site-packages/ipykernel_launcher.py:5: FutureWarning: Method `add_children` is deprecated. Please use `add_child` instead.\n",
      "  \"\"\"\n"
     ]
    },
    {
     "data": {
      "text/html": [
       "<div style=\"width:100%;\"><div style=\"position:relative;width:100%;height:0;padding-bottom:60%;\"><iframe src=\"data:text/html;charset=utf-8;base64,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\" style=\"position:absolute;width:100%;height:100%;left:0;top:0;border:none !important;\" allowfullscreen webkitallowfullscreen mozallowfullscreen></iframe></div></div>"
      ],
      "text/plain": [
       "<folium.folium.Map at 0x1117a87b8>"
      ]
     },
     "execution_count": 135,
     "metadata": {},
     "output_type": "execute_result"
    }
   ],
   "source": [
    "print(eval_func(fronts[0][0]))  # Shorter distance but Lower score\n",
    "plot_tour(fronts[0][0])"
   ]
  },
  {
   "cell_type": "code",
   "execution_count": null,
   "metadata": {},
   "outputs": [],
   "source": []
  }
 ],
 "metadata": {
  "kernelspec": {
   "display_name": "Python 3",
   "language": "python",
   "name": "python3"
  },
  "language_info": {
   "codemirror_mode": {
    "name": "ipython",
    "version": 3
   },
   "file_extension": ".py",
   "mimetype": "text/x-python",
   "name": "python",
   "nbconvert_exporter": "python",
   "pygments_lexer": "ipython3",
   "version": "3.6.8"
  }
 },
 "nbformat": 4,
 "nbformat_minor": 2
}
